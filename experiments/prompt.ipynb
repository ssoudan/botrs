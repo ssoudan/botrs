{
 "cells": [
  {
   "cell_type": "code",
   "execution_count": null,
   "metadata": {},
   "outputs": [],
   "source": [
    "import matplotlib.pyplot as plt\n",
    "import numpy as np\n",
    "import pandas as pd\n",
    "import seaborn as sns\n",
    "\n",
    "from matplotlib_inline.backend_inline import set_matplotlib_formats\n",
    "set_matplotlib_formats('svg')\n",
    "\n",
    "# set seaborn theme\n",
    "sns.set_theme()\n",
    "\n",
    "# set seaborn style\n",
    "sns.set_style(\"whitegrid\")\n",
    "\n",
    "# set seaborn palette\n",
    "sns.set_palette(\"tab10\")\n",
    "\n",
    "import glob\n",
    "import json\n",
    "import os\n",
    "\n",
    "import openai"
   ]
  },
  {
   "cell_type": "code",
   "execution_count": null,
   "metadata": {},
   "outputs": [],
   "source": [
    "with open('data/trial_12984043025267708053.json') as f:\n",
    "    trial = json.load(f)\n",
    "trial.keys()"
   ]
  },
  {
   "cell_type": "code",
   "execution_count": null,
   "metadata": {},
   "outputs": [],
   "source": [
    "messages = []\n",
    "\n",
    "for e in trial['trace']['events']:    \n",
    "    if e['type'] == 'Prompt':\n",
    "        for p in e['initial_prompt']:\n",
    "            print(f\"{p['role']}: {p['msg']}\")\n",
    "            messages.append({\"role\": p['role'], \"content\": p['msg']})"
   ]
  },
  {
   "cell_type": "code",
   "execution_count": null,
   "metadata": {},
   "outputs": [],
   "source": [
    "for m in messages:\n",
    "    print(m['role'], m['content'])"
   ]
  },
  {
   "cell_type": "code",
   "execution_count": null,
   "metadata": {},
   "outputs": [],
   "source": [
    "import openai\n",
    "\n",
    "openai.api_base = \"http://hector:8000/v1\"\n",
    "\n",
    "# model = \"vicuna-7b-1.1\"\n",
    "model = \"vicuna-13b-1.1\"\n",
    "# model = \"mpt-7b-chat\"\n",
    "#model = \"dolly-v2-12b\"\n",
    "# model = \"vincua-13b\"\n",
    "\n",
    "\n",
    "res = openai.ChatCompletion.create(\n",
    "    model=model,\n",
    "    messages=messages,\n",
    "    temperature=0.,\n",
    "    max_tokens=4096,\n",
    ")\n",
    "\n",
    "print(res)\n",
    "print(\"------------------\")\n",
    "print(res.choices[0].message.content)"
   ]
  },
  {
   "attachments": {},
   "cell_type": "markdown",
   "metadata": {
    "collapsed": false
   },
   "source": [
    "# GCP"
   ]
  },
  {
   "cell_type": "code",
   "execution_count": null,
   "metadata": {
    "ExecuteTime": {
     "end_time": "2023-05-12T20:58:29.063827Z",
     "start_time": "2023-05-12T20:58:29.060810Z"
    }
   },
   "outputs": [],
   "source": [
    "import vertexai\n",
    "import os\n",
    "from vertexai.preview.language_models import ChatModel, InputOutputTextPair\n",
    "\n",
    "project_id = os.environ[\"GOOGLE_PROJECT_ID\"]\n",
    "location = \"us-central1\"\n",
    "model_name = \"chat-bison@001\"\n",
    "vertexai.init(project=project_id, location=location)\n"
   ]
  },
  {
   "cell_type": "code",
   "execution_count": null,
   "metadata": {
    "ExecuteTime": {
     "end_time": "2023-05-12T20:58:30.429706Z",
     "start_time": "2023-05-12T20:58:30.425655Z"
    }
   },
   "outputs": [],
   "source": [
    "\n",
    "def predict_large_language_model_sample(\n",
    "    temperature: float,\n",
    "    max_output_tokens: int,\n",
    "    top_p: float,\n",
    "    top_k: int,\n",
    "    ) :\n",
    "\n",
    "    chat_model = ChatModel.from_pretrained(model_name)\n",
    "    parameters = {\n",
    "      \"temperature\": temperature,\n",
    "      \"max_output_tokens\": max_output_tokens,\n",
    "      \"top_p\": top_p,\n",
    "      \"top_k\": top_k,\n",
    "    }\n",
    "\n",
    "    chat = chat_model.start_chat(\n",
    "      examples=[]\n",
    "    )\n"
   ]
  },
  {
   "cell_type": "code",
   "execution_count": null,
   "metadata": {
    "ExecuteTime": {
     "end_time": "2023-05-12T21:00:22.000292Z",
     "start_time": "2023-05-12T21:00:21.998024Z"
    }
   },
   "outputs": [],
   "source": [
    "#predict_large_language_model_sample(0.2, 256, 0.8, 40)"
   ]
  },
  {
   "cell_type": "code",
   "execution_count": null,
   "metadata": {},
   "outputs": [],
   "source": []
  }
 ],
 "metadata": {
  "kernelspec": {
   "display_name": "sapiens",
   "language": "python",
   "name": "python3"
  },
  "language_info": {
   "codemirror_mode": {
    "name": "ipython",
    "version": 3
   },
   "file_extension": ".py",
   "mimetype": "text/x-python",
   "name": "python",
   "nbconvert_exporter": "python",
   "pygments_lexer": "ipython3",
   "version": "3.10.10"
  },
  "orig_nbformat": 4
 },
 "nbformat": 4,
 "nbformat_minor": 2
}
